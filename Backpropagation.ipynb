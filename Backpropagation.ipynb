{
  "nbformat": 4,
  "nbformat_minor": 0,
  "metadata": {
    "colab": {
      "name": "Backpropagation.ipynb",
      "provenance": [],
      "authorship_tag": "ABX9TyN4Be7p6+SzHCmr7fEbr1wO",
      "include_colab_link": true
    },
    "kernelspec": {
      "name": "python3",
      "display_name": "Python 3"
    },
    "language_info": {
      "name": "python"
    }
  },
  "cells": [
    {
      "cell_type": "markdown",
      "metadata": {
        "id": "view-in-github",
        "colab_type": "text"
      },
      "source": [
        "<a href=\"https://colab.research.google.com/github/lrizzi1/mlbackpropagation/blob/main/Backpropagation.ipynb\" target=\"_parent\"><img src=\"https://colab.research.google.com/assets/colab-badge.svg\" alt=\"Open In Colab\"/></a>"
      ]
    },
    {
      "cell_type": "code",
      "metadata": {
        "colab": {
          "base_uri": "https://localhost:8080/",
          "height": 1000
        },
        "id": "Hqj-AtX-5-Qo",
        "outputId": "a80d1311-0888-48ec-a73c-a4043ea36ad5"
      },
      "source": [
        "import numpy as np\n",
        "import pandas as pd \n",
        "from PIL import Image\n",
        "import time\n",
        "import math\n",
        "import matplotlib.pyplot as plt\n",
        "\n",
        "x_erro_epocas = np.linspace(0,50, 50)\n",
        "y_erro_epocas = np.zeros(50)\n",
        "\n",
        "\n",
        "#coloquei os dados no github assim o colab pode importar por essa biblioteca bem doida que eu achei\n",
        "uri='https://raw.githubusercontent.com/lrizzi1/mlbackpropagation/main/data%20(2).csv?token=AQJB7WD4E2Z64W7ZOTUDE33BDVPOC'\n",
        "\n",
        "dados = pd.read_csv(uri)\n",
        "\n",
        "#como eu nao sou experiente na biblioteca que achei tratei logo de tirar os dados dela e jogar pro numpy\n",
        "matriz = dados.values\n",
        "y = matriz[:,0]# y eh o vetor de saida\n",
        "x = matriz[:,1:]# x eh uma matriz de entrada de 210 entradas por 64\n",
        "\n",
        "#esta eh uma funcao que eu fiz para graficamente mostrar o numero gerado, para vizualizacao\n",
        "#nao comentarei mais pois nao eh relevante pro estudo em questao e eu pouco entendo como fiz isso funcionar XD\n",
        "def print_num (num):\n",
        "  img = Image.new('1', [8 , 8], color=1)\n",
        "  pixels = img.load()\n",
        "  for i in range(img.size[0]):\n",
        "      for j in range(img.size[1]):\n",
        "          pixels[j,i] = int(x[num,i*8+j])\n",
        "  img = img.resize([40 , 40])\n",
        "  display(img)\n",
        "\n",
        "np.random.seed(int(time.time()))\n",
        "for i in range (0, 10 ):\n",
        "  print_num(i+180)\n",
        "\n",
        "#aqui vou inserir um erro em ate tres locais da imagem do numero\n",
        "#eh em ate tres pois vou \"settar\" bits aleatorios , mas eles podem ja estar \"settados\" portanto nao fazendo nada\n",
        "#havendo a possibilidade que nao haja erro\n",
        "for i in range (0 , np.size(x,0)):\n",
        "  x[i,np.random.randint(0,63)] = 1\n",
        "  x[i,np.random.randint(0,63)] = 1\n",
        "  x[i,np.random.randint(0,63)] = 1\n",
        "  #print_num(1)\n",
        "  #print('\\n')\n",
        "  #uncomment in order to see the numbers used as input\n",
        "\n",
        "for i in range (0, 10 ):\n",
        "  print_num(i+180)\n",
        "\n",
        "class perceptron:#copia modificada do antigo perceptron\n",
        "    def __init__(self , input_size , tx_correao):\n",
        "      #retirado o np.random.seed(int(time.time())) para criar a seed so uma vez assim gerando numeros aleatorios\n",
        "      self.pesos = np.random.rand(input_size+1)* 2 - 1\n",
        "      self.tx = tx_correao\n",
        "      self.size_input = input_size\n",
        "\n",
        "    def classificar (self , input):\n",
        "      valor = sum(input*self.pesos[1:])+self.pesos[0]# aplica os pesos as entradas \n",
        "      valor = 1/(1+math.exp(-(valor))) # funcao sigmoide aplicada , aquela com exponencial pq parecia mais facil dps no backpropagation no Haykin\n",
        "      return valor\n",
        "\n",
        "\n",
        "class rede_neural: \n",
        "  def __init__(self , num_camadas , perceptrons_por_camada , input_size , taxa_aprendizado ):\n",
        "    #como nao consegui criar uma matriz com apenas o tamanho nescessario para armazenar os perceptrons crio uma matriz gigante\n",
        "    # e controlo por meio dos parametros acima oq deve ser computado dela , assim eu gasto memoria mas economizo computacao\n",
        "    self._num_camadas = num_camadas\n",
        "    self._perceptrons_por_camada = perceptrons_por_camada\n",
        "    self._taxa_aprendizado = taxa_aprendizado\n",
        "\n",
        "    # ai a matriz gigante ...\n",
        "    #basicamente eu considerei que a primeira camada de perceptrons eh a maior portanto a implementacao falha\n",
        "    # se alguem tentar usar com uma camada escondida ou final maior que a primeira XD                            <===== nota importante de implementacao\n",
        "    self.perceptrons = np.zeros([num_camadas,perceptrons_por_camada[0]],dtype=perceptron)\n",
        "    self.outputs=np.zeros([self._num_camadas,self._perceptrons_por_camada[0]],dtype=float)\n",
        "    \n",
        "    # a seguir guardo os perceptrons em uma matriz , note que os primeiros (i==0) tem o tamanho do vetor de pesos igual ao\n",
        "    # tamanho do vetor de entrada enquanto os outros tem o vetor de pesos igual ao temanho da camada anterior \n",
        "    # ou seja nesta implementacao ta todo mundo ligado\n",
        "    for i in range (0,num_camadas):\n",
        "      for j in range (0 , perceptrons_por_camada[i]):\n",
        "        if(i == 0):\n",
        "          self.perceptrons[i][j]= perceptron(input_size,0.3)\n",
        "        else:\n",
        "          self.perceptrons[i][j]= perceptron(perceptrons_por_camada[i-1],0.3)\n",
        "    \n",
        "  def classificar (self , input):\n",
        "    for i in range (0,self._num_camadas):\n",
        "      for j in range (0 , self._perceptrons_por_camada[i]):\n",
        "        if(i == 0):\n",
        "          self.outputs[i][j]= self.perceptrons[i][j].classificar(input)\n",
        "        else:\n",
        "          self.outputs[i][j]= self.perceptrons[i][j].classificar(self.outputs[i-1][0:self._perceptrons_por_camada[i-1]])\n",
        "    return self.outputs[-1][0:self._perceptrons_por_camada[-1]]\n",
        "\n",
        "  #beleza agora ja fiz a foward , falta so a back\n",
        "\n",
        "  #essa funcao deve reeber um conjunto de dados e realizar o treinamento uma vez , assim outra funcao\n",
        "  # vai chama-la varias vezes , misturando os dados para melhor resultados e criar varias epocas\n",
        "  def treina_epoca ( self , matriz_entrada , y_error , indice_y):\n",
        "    y = matriz_entrada[0]\n",
        "    x = matriz_entrada[1:]\n",
        "    self.deltas_saidas = np.zeros([self._num_camadas,self._perceptrons_por_camada[0]],dtype=float)#2\n",
        "    self.saidas = np.zeros([self._num_camadas,self._perceptrons_por_camada[0]],dtype=float)#1\n",
        "\n",
        "    \n",
        "    aux = np.zeros(self._perceptrons_por_camada[-1],dtype=float)\n",
        "    aux[y] = 1\n",
        "    aux2 = self.classificar(x[:])\n",
        "    self.saidas = self.outputs\n",
        "    y_error[indice_y] += np.sum(aux-aux2)**2# AQUI EH ESTIMADO O ERRO POR EPOCA = (saida desejada - obtida )**2\n",
        "    self.deltas_saidas[-1][0:self._perceptrons_por_camada[-1]] = (aux - aux2) * aux2 * (1 - aux2)# erro * derivadasigmoide\n",
        "    #print(aux - aux2 , self.deltas_saidas[-1])\n",
        "\n",
        "    for i in range(self._num_camadas-1 , 0 , -1):\n",
        "      for k in range (0 , self._perceptrons_por_camada[i-1]):\n",
        "        for h in range (0 , self._perceptrons_por_camada[i]):\n",
        "          self.deltas_saidas[i-1][k] = self.deltas_saidas[i-1][k] + self.deltas_saidas[i][h] * self.perceptrons[i][h].pesos[k+1] * self.saidas[i-1][k] * (1-self.saidas[i-1][k])\n",
        "\n",
        "    #ajuste dos pesos da primeira camada\n",
        "    for j in range (0 , self._perceptrons_por_camada[0]):\n",
        "      for k in range (0 , x.size):\n",
        "        #for z in range (0 , x.size):\n",
        "        if(k==0):#k=0 indica o ajuste dos pesos w0 que nao sao multiplicados por nenhuma entrada, são apenas somados no calculo da saida\n",
        "          self.perceptrons[0][j].pesos[0] = self.perceptrons[0][j].pesos[0] + self.deltas_saidas[0][j] * self._taxa_aprendizado\n",
        "        else:\n",
        "          self.perceptrons[0][j].pesos[k] = self.perceptrons[0][j].pesos[k] + self.deltas_saidas[0][j] * x[k-1] * self._taxa_aprendizado\n",
        "\n",
        "    for i in range(1 , self._num_camadas):\n",
        "      for j in range (0 , self._perceptrons_por_camada[i]):\n",
        "        for k in range (0 , self._perceptrons_por_camada[i-1]):\n",
        "          #for z in range (0 , self._perceptrons_por_camada[i-1]):\n",
        "          if(k==0):\n",
        "            self.perceptrons[i][j].pesos[k] = self.perceptrons[i][j].pesos[k] + self.deltas_saidas[i][j]  * self._taxa_aprendizado\n",
        "          else:\n",
        "            self.perceptrons[i][j].pesos[k] = self.perceptrons[i][j].pesos[k] + self.deltas_saidas[i][j] * self.saidas[i-1][k-1] * self._taxa_aprendizado\n",
        "\n",
        "\n",
        "#implementacao do treino com muitas epocas, falta implementar na classe pra ficar bonitim\n",
        "matriz_copia = matriz.copy()\n",
        "R = rede_neural(5 , [64,46,32,21,10],64 , 0.3)\n",
        "#print(R.classificar(x[0]))\n",
        "for j in range (0 , 50):# numero de epocas\n",
        "  for i in range (0 , 180):# ate onde usa do dataset para treinar\n",
        "    R.treina_epoca(matriz_copia[i][:].copy(),y_erro_epocas,j)\n",
        "  if (j>25):\n",
        "    R._taxa_aprendizado = R._taxa_aprendizado * 0.8\n",
        "  np.random.shuffle(matriz_copia)\n",
        "\n",
        "plt.plot(x_erro_epocas , y_erro_epocas)\n",
        "corretos = 0\n",
        "for i in range (0 , 30):# complemento do dataset para avaliar\n",
        "  aux = R.classificar(x[i+180])\n",
        "  result = np.where(aux == np.amax(aux))\n",
        "  print_num(i+180)\n",
        "  print(result[0])\n",
        "  if(result[0] == y [i+180]):\n",
        "    corretos+=1\n",
        "print(\"acertividade =\" , corretos / 30 )\n",
        "\n"
      ],
      "execution_count": null,
      "outputs": [
        {
          "output_type": "display_data",
          "data": {
            "image/png": "[encoded data removed]",
            "text/plain": [
              "<PIL.Image.Image image mode=1 size=40x40 at 0x7FDCE5E05FD0>"
            ]
          },
          "metadata": {}
        },
        {
          "output_type": "display_data",
          "data": {
            "image/png": "[encoded data removed]",
            "text/plain": [
              "<PIL.Image.Image image mode=1 size=40x40 at 0x7FDCE5E05FD0>"
            ]
          },
          "metadata": {}
        },
        {
          "output_type": "display_data",
          "data": {
            "image/png": "[encoded data removed]",
            "text/plain": [
              "<PIL.Image.Image image mode=1 size=40x40 at 0x7FDCE5E05FD0>"
            ]
          },
          "metadata": {}
        },
        {
          "output_type": "display_data",
          "data": {
            "image/png": "[encoded data removed]",
            "text/plain": [
              "<PIL.Image.Image image mode=1 size=40x40 at 0x7FDCE5E05FD0>"
            ]
          },
          "metadata": {}
        },
        {
          "output_type": "display_data",
          "data": {
            "image/png": "[encoded data removed]",
            "text/plain": [
              "<PIL.Image.Image image mode=1 size=40x40 at 0x7FDCE5E05FD0>"
            ]
          },
          "metadata": {}
        },
        {
          "output_type": "display_data",
          "data": {
            "image/png": "[encoded data removed]",
            "text/plain": [
              "<PIL.Image.Image image mode=1 size=40x40 at 0x7FDCE5E05FD0>"
            ]
          },
          "metadata": {}
        },
        {
          "output_type": "display_data",
          "data": {
            "image/png": "[encoded data removed]",
            "text/plain": [
              "<PIL.Image.Image image mode=1 size=40x40 at 0x7FDCE5E05FD0>"
            ]
          },
          "metadata": {}
        },
        {
          "output_type": "display_data",
          "data": {
            "image/png": "[encoded data removed]",
            "text/plain": [
              "<PIL.Image.Image image mode=1 size=40x40 at 0x7FDCE5E05FD0>"
            ]
          },
          "metadata": {}
        },
        {
          "output_type": "display_data",
          "data": {
            "image/png": "[encoded data removed]",
            "text/plain": [
              "<PIL.Image.Image image mode=1 size=40x40 at 0x7FDCE5E05FD0>"
            ]
          },
          "metadata": {}
        },
        {
          "output_type": "display_data",
          "data": {
            "image/png": "[encoded data removed]",
            "text/plain": [
              "<PIL.Image.Image image mode=1 size=40x40 at 0x7FDCE5E05FD0>"
            ]
          },
          "metadata": {}
        },
        {
          "output_type": "display_data",
          "data": {
            "image/png": "[encoded data removed]",
            "text/plain": [
              "<PIL.Image.Image image mode=1 size=40x40 at 0x7FDCE5E05FD0>"
            ]
          },
          "metadata": {}
        },
        {
          "output_type": "display_data",
          "data": {
            "image/png": "[encoded data removed]",
            "text/plain": [
              "<PIL.Image.Image image mode=1 size=40x40 at 0x7FDCE5E05FD0>"
            ]
          },
          "metadata": {}
        },
        {
          "output_type": "display_data",
          "data": {
            "image/png": "[encoded data removed]",
            "text/plain": [
              "<PIL.Image.Image image mode=1 size=40x40 at 0x7FDCE5E05FD0>"
            ]
          },
          "metadata": {}
        },
        {
          "output_type": "display_data",
          "data": {
            "image/png": "[encoded data removed]",
            "text/plain": [
              "<PIL.Image.Image image mode=1 size=40x40 at 0x7FDCE5E05FD0>"
            ]
          },
          "metadata": {}
        },
        {
          "output_type": "display_data",
          "data": {
            "image/png": "[encoded data removed]",
            "text/plain": [
              "<PIL.Image.Image image mode=1 size=40x40 at 0x7FDCE5E05FD0>"
            ]
          },
          "metadata": {}
        },
        {
          "output_type": "display_data",
          "data": {
            "image/png": "[encoded data removed]",
            "text/plain": [
              "<PIL.Image.Image image mode=1 size=40x40 at 0x7FDCE5E05FD0>"
            ]
          },
          "metadata": {}
        },
        {
          "output_type": "display_data",
          "data": {
            "image/png": "[encoded data removed]",
            "text/plain": [
              "<PIL.Image.Image image mode=1 size=40x40 at 0x7FDCE5E05FD0>"
            ]
          },
          "metadata": {}
        },
        {
          "output_type": "display_data",
          "data": {
            "image/png": "[encoded data removed]",
            "text/plain": [
              "<PIL.Image.Image image mode=1 size=40x40 at 0x7FDCE5E05FD0>"
            ]
          },
          "metadata": {}
        },
        {
          "output_type": "display_data",
          "data": {
            "image/png": "[encoded data removed]",
            "text/plain": [
              "<PIL.Image.Image image mode=1 size=40x40 at 0x7FDCE5E05FD0>"
            ]
          },
          "metadata": {}
        },
        {
          "output_type": "display_data",
          "data": {
            "image/png": "[encoded data removed]",
            "text/plain": [
              "<PIL.Image.Image image mode=1 size=40x40 at 0x7FDCE5E05FD0>"
            ]
          },
          "metadata": {}
        },
        {
          "output_type": "display_data",
          "data": {
            "image/png": "[encoded data removed]",
            "text/plain": [
              "<PIL.Image.Image image mode=1 size=40x40 at 0x7FDCE583CF10>"
            ]
          },
          "metadata": {}
        },
        {
          "output_type": "stream",
          "name": "stdout",
          "text": [
            "[1]\n"
          ]
        },
        {
          "output_type": "display_data",
          "data": {
            "image/png": "[encoded data removed]",
            "text/plain": [
              "<PIL.Image.Image image mode=1 size=40x40 at 0x7FDCE5DB8F90>"
            ]
          },
          "metadata": {}
        },
        {
          "output_type": "stream",
          "name": "stdout",
          "text": [
            "[2]\n"
          ]
        },
        {
          "output_type": "display_data",
          "data": {
            "image/png": "[encoded data removed]",
            "text/plain": [
              "<PIL.Image.Image image mode=1 size=40x40 at 0x7FDCE5DB8F90>"
            ]
          },
          "metadata": {}
        },
        {
          "output_type": "stream",
          "name": "stdout",
          "text": [
            "[3]\n"
          ]
        },
        {
          "output_type": "display_data",
          "data": {
            "image/png": "[encoded data removed]",
            "text/plain": [
              "<PIL.Image.Image image mode=1 size=40x40 at 0x7FDCE583CF10>"
            ]
          },
          "metadata": {}
        },
        {
          "output_type": "stream",
          "name": "stdout",
          "text": [
            "[4]\n"
          ]
        },
        {
          "output_type": "display_data",
          "data": {
            "image/png": "[encoded data removed]",
            "text/plain": [
              "<PIL.Image.Image image mode=1 size=40x40 at 0x7FDCE5DB8F90>"
            ]
          },
          "metadata": {}
        },
        {
          "output_type": "stream",
          "name": "stdout",
          "text": [
            "[5]\n"
          ]
        },
        {
          "output_type": "display_data",
          "data": {
            "image/png": "[encoded data removed]",
            "text/plain": [
              "<PIL.Image.Image image mode=1 size=40x40 at 0x7FDCE583CF10>"
            ]
          },
          "metadata": {}
        },
        {
          "output_type": "stream",
          "name": "stdout",
          "text": [
            "[6]\n"
          ]
        },
        {
          "output_type": "display_data",
          "data": {
            "image/png": "[encoded data removed]",
            "text/plain": [
              "<PIL.Image.Image image mode=1 size=40x40 at 0x7FDCE5DB8F90>"
            ]
          },
          "metadata": {}
        },
        {
          "output_type": "stream",
          "name": "stdout",
          "text": [
            "[7]\n"
          ]
        },
        {
          "output_type": "display_data",
          "data": {
            "image/png": "[encoded data removed]",
            "text/plain": [
              "<PIL.Image.Image image mode=1 size=40x40 at 0x7FDCE583CF10>"
            ]
          },
          "metadata": {}
        },
        {
          "output_type": "stream",
          "name": "stdout",
          "text": [
            "[8]\n"
          ]
        },
        {
          "output_type": "display_data",
          "data": {
            "image/png": "[encoded data removed]",
            "text/plain": [
              "<PIL.Image.Image image mode=1 size=40x40 at 0x7FDCE5848E90>"
            ]
          },
          "metadata": {}
        },
        {
          "output_type": "stream",
          "name": "stdout",
          "text": [
            "[9]\n"
          ]
        },
        {
          "output_type": "display_data",
          "data": {
            "image/png": "[encoded data removed]",
            "text/plain": [
              "<PIL.Image.Image image mode=1 size=40x40 at 0x7FDCE5848FD0>"
            ]
          },
          "metadata": {}
        },
        {
          "output_type": "stream",
          "name": "stdout",
          "text": [
            "[0]\n"
          ]
        },
        {
          "output_type": "display_data",
          "data": {
            "image/png": "[encoded data removed]",
            "text/plain": [
              "<PIL.Image.Image image mode=1 size=40x40 at 0x7FDCE5848F90>"
            ]
          },
          "metadata": {}
        },
        {
          "output_type": "stream",
          "name": "stdout",
          "text": [
            "[1]\n"
          ]
        },
        {
          "output_type": "display_data",
          "data": {
            "image/png": "[encoded data removed]",
            "text/plain": [
              "<PIL.Image.Image image mode=1 size=40x40 at 0x7FDCE58489D0>"
            ]
          },
          "metadata": {}
        },
        {
          "output_type": "stream",
          "name": "stdout",
          "text": [
            "[2]\n"
          ]
        },
        {
          "output_type": "display_data",
          "data": {
            "image/png": "[encoded data removed]",
            "text/plain": [
              "<PIL.Image.Image image mode=1 size=40x40 at 0x7FDCE58489D0>"
            ]
          },
          "metadata": {}
        },
        {
          "output_type": "stream",
          "name": "stdout",
          "text": [
            "[3]\n"
          ]
        },
        {
          "output_type": "display_data",
          "data": {
            "image/png": "[encoded data removed]",
            "text/plain": [
              "<PIL.Image.Image image mode=1 size=40x40 at 0x7FDCE58489D0>"
            ]
          },
          "metadata": {}
        },
        {
          "output_type": "stream",
          "name": "stdout",
          "text": [
            "[4]\n"
          ]
        },
        {
          "output_type": "display_data",
          "data": {
            "image/png": "[encoded data removed]",
            "text/plain": [
              "<PIL.Image.Image image mode=1 size=40x40 at 0x7FDCE585D250>"
            ]
          },
          "metadata": {}
        },
        {
          "output_type": "stream",
          "name": "stdout",
          "text": [
            "[5]\n"
          ]
        },
        {
          "output_type": "display_data",
          "data": {
            "image/png": "[encoded data removed]",
            "text/plain": [
              "<PIL.Image.Image image mode=1 size=40x40 at 0x7FDCE585D390>"
            ]
          },
          "metadata": {}
        },
        {
          "output_type": "stream",
          "name": "stdout",
          "text": [
            "[6]\n"
          ]
        },
        {
          "output_type": "display_data",
          "data": {
            "image/png": "[encoded data removed]",
            "text/plain": [
              "<PIL.Image.Image image mode=1 size=40x40 at 0x7FDCE5848F50>"
            ]
          },
          "metadata": {}
        },
        {
          "output_type": "stream",
          "name": "stdout",
          "text": [
            "[7]\n"
          ]
        },
        {
          "output_type": "display_data",
          "data": {
            "image/png": "[encoded data removed]",
            "text/plain": [
              "<PIL.Image.Image image mode=1 size=40x40 at 0x7FDCE585D490>"
            ]
          },
          "metadata": {}
        },
        {
          "output_type": "stream",
          "name": "stdout",
          "text": [
            "[8]\n"
          ]
        },
        {
          "output_type": "display_data",
          "data": {
            "image/png": "[encoded data removed]",
            "text/plain": [
              "<PIL.Image.Image image mode=1 size=40x40 at 0x7FDCE585D290>"
            ]
          },
          "metadata": {}
        },
        {
          "output_type": "stream",
          "name": "stdout",
          "text": [
            "[9]\n"
          ]
        },
        {
          "output_type": "display_data",
          "data": {
            "image/png": "[encoded data removed]",
            "text/plain": [
              "<PIL.Image.Image image mode=1 size=40x40 at 0x7FDCE5848E50>"
            ]
          },
          "metadata": {}
        },
        {
          "output_type": "stream",
          "name": "stdout",
          "text": [
            "[0]\n"
          ]
        },
        {
          "output_type": "display_data",
          "data": {
            "image/png": "[encoded data removed]",
            "text/plain": [
              "<PIL.Image.Image image mode=1 size=40x40 at 0x7FDCE5848B50>"
            ]
          },
          "metadata": {}
        },
        {
          "output_type": "stream",
          "name": "stdout",
          "text": [
            "[1]\n"
          ]
        },
        {
          "output_type": "display_data",
          "data": {
            "image/png": "[encoded data removed]",
            "text/plain": [
              "<PIL.Image.Image image mode=1 size=40x40 at 0x7FDCE5848850>"
            ]
          },
          "metadata": {}
        },
        {
          "output_type": "stream",
          "name": "stdout",
          "text": [
            "[2]\n"
          ]
        },
        {
          "output_type": "display_data",
          "data": {
            "image/png": "[encoded data removed]",
            "text/plain": [
              "<PIL.Image.Image image mode=1 size=40x40 at 0x7FDCE5848E50>"
            ]
          },
          "metadata": {}
        },
        {
          "output_type": "stream",
          "name": "stdout",
          "text": [
            "[3]\n"
          ]
        },
        {
          "output_type": "display_data",
          "data": {
            "image/png": "[encoded data removed]",
            "text/plain": [
              "<PIL.Image.Image image mode=1 size=40x40 at 0x7FDCE583CF10>"
            ]
          },
          "metadata": {}
        },
        {
          "output_type": "stream",
          "name": "stdout",
          "text": [
            "[4]\n"
          ]
        },
        {
          "output_type": "display_data",
          "data": {
            "image/png": "[encoded data removed]",
            "text/plain": [
              "<PIL.Image.Image image mode=1 size=40x40 at 0x7FDCE5848ED0>"
            ]
          },
          "metadata": {}
        },
        {
          "output_type": "stream",
          "name": "stdout",
          "text": [
            "[5]\n"
          ]
        },
        {
          "output_type": "display_data",
          "data": {
            "image/png": "[encoded data removed]",
            "text/plain": [
              "<PIL.Image.Image image mode=1 size=40x40 at 0x7FDCE5848850>"
            ]
          },
          "metadata": {}
        },
        {
          "output_type": "stream",
          "name": "stdout",
          "text": [
            "[6]\n"
          ]
        },
        {
          "output_type": "display_data",
          "data": {
            "image/png": "[encoded data removed]",
            "text/plain": [
              "<PIL.Image.Image image mode=1 size=40x40 at 0x7FDCE5848F10>"
            ]
          },
          "metadata": {}
        },
        {
          "output_type": "stream",
          "name": "stdout",
          "text": [
            "[7]\n"
          ]
        },
        {
          "output_type": "display_data",
          "data": {
            "image/png": "[encoded data removed]",
            "text/plain": [
              "<PIL.Image.Image image mode=1 size=40x40 at 0x7FDCE5848F10>"
            ]
          },
          "metadata": {}
        },
        {
          "output_type": "stream",
          "name": "stdout",
          "text": [
            "[8]\n"
          ]
        },
        {
          "output_type": "display_data",
          "data": {
            "image/png": "[encoded data removed]",
            "text/plain": [
              "<PIL.Image.Image image mode=1 size=40x40 at 0x7FDCE5848590>"
            ]
          },
          "metadata": {}
        },
        {
          "output_type": "stream",
          "name": "stdout",
          "text": [
            "[9]\n"
          ]
        },
        {
          "output_type": "display_data",
          "data": {
            "image/png": "[encoded data removed]",
            "text/plain": [
              "<PIL.Image.Image image mode=1 size=40x40 at 0x7FDCE585D3D0>"
            ]
          },
          "metadata": {}
        },
        {
          "output_type": "stream",
          "name": "stdout",
          "text": [
            "[0]\n",
            "acertividade = 1.0\n"
          ]
        },
        {
          "output_type": "display_data",
          "data": {
            "image/png": "[encoded data removed]",
            "text/plain": [
              "<Figure size 432x288 with 1 Axes>"
            ]
          },
          "metadata": {
            "needs_background": "light"
          }
        }
      ]
    }
  ]
}